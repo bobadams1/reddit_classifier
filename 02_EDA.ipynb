{
 "cells": [
  {
   "cell_type": "markdown",
   "id": "cc120da0-3ba3-46b6-8838-d05b15da50bb",
   "metadata": {},
   "source": [
    "# Exploratory Data Analysis"
   ]
  },
  {
   "cell_type": "markdown",
   "id": "ec33f6ee-1774-4b34-b54f-a1bec099679b",
   "metadata": {},
   "source": [
    "Explore the data prior to NLP feature extraction and modeling to understand the two chosen subreddits: \n",
    "* [r/dating](https://www.reddit.com/r/dating)\n",
    "* [r/datingoverthirty](https://www.reddit.com/r/datingoverthirty)\n",
    "\n",
    "Motivation: Understand the difference in how people approach dating at different age groups, based on advice posts in two subreddits focused on different age groups\n",
    "\n",
    "There is significant user overlap between these two subreddit communities based on user accounts following each.  Per [subredditstats.com](https://subredditstats.com/subreddit-user-overlaps/dating), users following _r/dating_ are 46.2x as likely to post on _r/datingoverthirty_ than the average reddit user.  \n",
    "For reference, r/patriots and r/bostonceltics have a 92x overlap factor."
   ]
  },
  {
   "cell_type": "markdown",
   "id": "bf680640-513b-4964-b714-9f9fc00f6ff1",
   "metadata": {},
   "source": [
    "### Imports and Data Loading"
   ]
  },
  {
   "cell_type": "code",
   "execution_count": 1,
   "id": "de9b8219-5db7-4edb-b217-ecb7446cfe27",
   "metadata": {},
   "outputs": [],
   "source": [
    "# imports\n",
    "import pandas as pd\n",
    "import numpy as np\n",
    "import matplotlib.pyplot as plt\n",
    "import seaborn as sns"
   ]
  },
  {
   "cell_type": "code",
   "execution_count": null,
   "id": "98e38f9c-d991-4aa4-a448-498cc031b0da",
   "metadata": {},
   "outputs": [],
   "source": [
    "most_recent_extract = ''\n",
    "df = pd.read_csv(f'data/reddit_posts_raw_{most_recent_extract}.csv')"
   ]
  },
  {
   "cell_type": "code",
   "execution_count": null,
   "id": "d89eda1a-d85c-4690-8987-5c093cf9e8cc",
   "metadata": {},
   "outputs": [],
   "source": [
    "df.shape()"
   ]
  },
  {
   "cell_type": "code",
   "execution_count": null,
   "id": "44170abd-6328-47e0-a157-60f7f3538fef",
   "metadata": {},
   "outputs": [],
   "source": [
    "# 'subreddit', 'id', 'created_utc', 'title', 'selftext', 'top_comment_text'"
   ]
  },
  {
   "cell_type": "markdown",
   "id": "5da9c444-6c35-4df7-977a-45f3361be653",
   "metadata": {},
   "source": [
    "##"
   ]
  }
 ],
 "metadata": {
  "kernelspec": {
   "display_name": "Python 3 (ipykernel)",
   "language": "python",
   "name": "python3"
  },
  "language_info": {
   "codemirror_mode": {
    "name": "ipython",
    "version": 3
   },
   "file_extension": ".py",
   "mimetype": "text/x-python",
   "name": "python",
   "nbconvert_exporter": "python",
   "pygments_lexer": "ipython3",
   "version": "3.10.9"
  }
 },
 "nbformat": 4,
 "nbformat_minor": 5
}
