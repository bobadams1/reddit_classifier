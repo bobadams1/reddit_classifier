{
 "cells": [
  {
   "cell_type": "markdown",
   "id": "6d610ead-001e-4461-9533-2748465331bc",
   "metadata": {},
   "source": [
    "Motivation: Understand the difference in how people approach dating at different age groups, based on advice posts in two subreddits focused on different age groups:\n",
    "* [r/dating](https://www.reddit.com/r/dating)\n",
    "* [r/datingoverthirty](https://www.reddit.com/r/datingoverthirty)"
   ]
  },
  {
   "cell_type": "code",
   "execution_count": 93,
   "id": "6e00c620-1cb4-4aba-9f50-672b8db70194",
   "metadata": {},
   "outputs": [],
   "source": [
    "import praw\n",
    "import pandas as pd"
   ]
  },
  {
   "cell_type": "code",
   "execution_count": 94,
   "id": "5f620a88-7e42-428c-9c89-f3b3e29a197d",
   "metadata": {},
   "outputs": [],
   "source": [
    "reddit = praw.Reddit(client_id='Io2p8TWnTj6hlgrO62G_jQ',\n",
    "    client_secret='5cD0nzDtEF3o8316kewDQ5Y0A0Blwg',\n",
    "    user_agent='Post Description Extraction',\n",
    "    username='sinkorfloat',\n",
    "    password='amidships'\n",
    ")"
   ]
  },
  {
   "cell_type": "code",
   "execution_count": 95,
   "id": "3945dde1-9c38-429f-bf8d-9f5b5c538bb7",
   "metadata": {},
   "outputs": [],
   "source": [
    "# Get the top comment each submission, sorted by upvote (as seen on the site)\n",
    "\n",
    "def get_top_comment(submission_id):\n",
    "    post = reddit.submission(id = submission_id)\n",
    "    post.comment_sort = 'top' # cite: https://www.reddit.com/r/redditdev/comments/mzloap/extract_only_the_top_comment_for_a_submission/gw1h38f/\n",
    "    top_comments = post.comments[0:5]\n",
    "\n",
    "    #Some subreddits include automoderator sticky posts at the top of each thread (keep it civil, see the rules...).  Filtering these out\n",
    "    non_mod_comments = [comment.body for comment in top_comments if comment.stickied == False]\n",
    "    if len(non_mod_comments) ==0:\n",
    "        top_comment = ''\n",
    "    else: \n",
    "        top_comment = non_mod_comments[0]\n",
    "    return top_comment"
   ]
  },
  {
   "cell_type": "markdown",
   "id": "2d1f2f0a-e636-4c5d-bec6-d1cf48577eab",
   "metadata": {},
   "source": [
    "### Content Extraction"
   ]
  },
  {
   "cell_type": "code",
   "execution_count": 96,
   "id": "d449b75b-f49f-45b2-982f-1faa4ba2c09e",
   "metadata": {},
   "outputs": [],
   "source": [
    "#Extract 2000 recent submissions\n",
    "subreddit_1 = reddit.subreddit('dating') #https://praw.readthedocs.io/en/stable/code_overview/reddit_instance.html\n",
    "posts1 = subreddit_1.new(limit = 2000)\n",
    "\n",
    "subreddit_2 = reddit.subreddit('datingoverthirty')\n",
    "posts2 = subreddit_2.new(limit = 2000)"
   ]
  },
  {
   "cell_type": "code",
   "execution_count": 97,
   "id": "68328900-6a4d-4e40-ae52-16829adf2f24",
   "metadata": {},
   "outputs": [],
   "source": [
    "# Create a dataframe of all posts, including selftext, top_commment_text\n",
    "data = []\n",
    "ids = []\n",
    "\n",
    "for post in posts1:\n",
    "    if post.id not in ids:\n",
    "        urls.append([post.id])      \n",
    "            \n",
    "        data.append([post.subreddit, post.id, post.created_utc, post.title, post.selftext, get_top_comment(post.id)])\n",
    "    else:\n",
    "        continue\n",
    "        \n",
    "for post in posts2:\n",
    "    if post.url not in urls:\n",
    "        urls.append([post.id])\n",
    "        post.comment_sort = 'top'\n",
    "        data.append([post.subreddit, post.id, post.created_utc, post.title, post.selftext, get_top_comment(post.id)])\n",
    "    else:\n",
    "        continue\n",
    "\n",
    "posts_df = pd.DataFrame(data, columns = ['subreddit', 'id', 'created_utc', 'title', 'selftext', 'top_comment_text'])"
   ]
  },
  {
   "cell_type": "code",
   "execution_count": 100,
   "id": "1255ca62-556c-416e-8996-085f71ed4983",
   "metadata": {},
   "outputs": [
    {
     "data": {
      "text/plain": [
       "(1971, 6)"
      ]
     },
     "execution_count": 100,
     "metadata": {},
     "output_type": "execute_result"
    }
   ],
   "source": [
    "posts_df.shape"
   ]
  },
  {
   "cell_type": "code",
   "execution_count": 103,
   "id": "9583edf9-ede6-423e-a1c6-8b2d1ee499ab",
   "metadata": {},
   "outputs": [
    {
     "data": {
      "text/plain": [
       "datingoverthirty    998\n",
       "dating              973\n",
       "Name: subreddit, dtype: int64"
      ]
     },
     "execution_count": 103,
     "metadata": {},
     "output_type": "execute_result"
    }
   ],
   "source": [
    "posts_df['subreddit'].value_counts()"
   ]
  },
  {
   "cell_type": "code",
   "execution_count": 107,
   "id": "1e738f4a-94db-43dd-bd71-9220c04029b8",
   "metadata": {
    "tags": []
   },
   "outputs": [
    {
     "data": {
      "text/html": [
       "<div>\n",
       "<style scoped>\n",
       "    .dataframe tbody tr th:only-of-type {\n",
       "        vertical-align: middle;\n",
       "    }\n",
       "\n",
       "    .dataframe tbody tr th {\n",
       "        vertical-align: top;\n",
       "    }\n",
       "\n",
       "    .dataframe thead th {\n",
       "        text-align: right;\n",
       "    }\n",
       "</style>\n",
       "<table border=\"1\" class=\"dataframe\">\n",
       "  <thead>\n",
       "    <tr style=\"text-align: right;\">\n",
       "      <th></th>\n",
       "      <th>subreddit</th>\n",
       "      <th>id</th>\n",
       "      <th>created_utc</th>\n",
       "      <th>title</th>\n",
       "      <th>selftext</th>\n",
       "      <th>top_comment_text</th>\n",
       "    </tr>\n",
       "  </thead>\n",
       "  <tbody>\n",
       "    <tr>\n",
       "      <th>0</th>\n",
       "      <td>dating</td>\n",
       "      <td>1471ube</td>\n",
       "      <td>1.686509e+09</td>\n",
       "      <td>Am I Clueless?</td>\n",
       "      <td>So there is this girl I’ve known my whole life...</td>\n",
       "      <td></td>\n",
       "    </tr>\n",
       "    <tr>\n",
       "      <th>1</th>\n",
       "      <td>dating</td>\n",
       "      <td>1471t0w</td>\n",
       "      <td>1.686509e+09</td>\n",
       "      <td>Is my Ex talking to the girl I like on purpose?</td>\n",
       "      <td>The title explains it all but here's a bit of ...</td>\n",
       "      <td></td>\n",
       "    </tr>\n",
       "    <tr>\n",
       "      <th>2</th>\n",
       "      <td>dating</td>\n",
       "      <td>1471gsn</td>\n",
       "      <td>1.686509e+09</td>\n",
       "      <td>Advice for Dealing with Anxious Attachment Sty...</td>\n",
       "      <td>I suffer from Anxious Attachment Style.  It ve...</td>\n",
       "      <td></td>\n",
       "    </tr>\n",
       "    <tr>\n",
       "      <th>3</th>\n",
       "      <td>dating</td>\n",
       "      <td>1471coz</td>\n",
       "      <td>1.686508e+09</td>\n",
       "      <td>I want to send a letter to a guy I dated a few...</td>\n",
       "      <td>Ages at the time: me (26) him (29)\\n\\nA few ye...</td>\n",
       "      <td></td>\n",
       "    </tr>\n",
       "    <tr>\n",
       "      <th>4</th>\n",
       "      <td>dating</td>\n",
       "      <td>14716mt</td>\n",
       "      <td>1.686508e+09</td>\n",
       "      <td>A bit mopey</td>\n",
       "      <td>I (22m) have a date tonight (that I can't post...</td>\n",
       "      <td></td>\n",
       "    </tr>\n",
       "  </tbody>\n",
       "</table>\n",
       "</div>"
      ],
      "text/plain": [
       "  subreddit       id   created_utc  \\\n",
       "0    dating  1471ube  1.686509e+09   \n",
       "1    dating  1471t0w  1.686509e+09   \n",
       "2    dating  1471gsn  1.686509e+09   \n",
       "3    dating  1471coz  1.686508e+09   \n",
       "4    dating  14716mt  1.686508e+09   \n",
       "\n",
       "                                               title  \\\n",
       "0                                     Am I Clueless?   \n",
       "1    Is my Ex talking to the girl I like on purpose?   \n",
       "2  Advice for Dealing with Anxious Attachment Sty...   \n",
       "3  I want to send a letter to a guy I dated a few...   \n",
       "4                                        A bit mopey   \n",
       "\n",
       "                                            selftext top_comment_text  \n",
       "0  So there is this girl I’ve known my whole life...                   \n",
       "1  The title explains it all but here's a bit of ...                   \n",
       "2  I suffer from Anxious Attachment Style.  It ve...                   \n",
       "3  Ages at the time: me (26) him (29)\\n\\nA few ye...                   \n",
       "4  I (22m) have a date tonight (that I can't post...                   "
      ]
     },
     "execution_count": 107,
     "metadata": {},
     "output_type": "execute_result"
    }
   ],
   "source": [
    "posts_df.head(5)"
   ]
  },
  {
   "cell_type": "code",
   "execution_count": 108,
   "id": "43bc775a-b2a3-48b0-9f4a-3852eb9ea401",
   "metadata": {},
   "outputs": [
    {
     "data": {
      "text/plain": [
       "0   1970-01-01 00:00:01.686509373\n",
       "1   1970-01-01 00:00:01.686509291\n",
       "2   1970-01-01 00:00:01.686508506\n",
       "3   1970-01-01 00:00:01.686508235\n",
       "4   1970-01-01 00:00:01.686507839\n",
       "Name: created_utc, dtype: datetime64[ns]"
      ]
     },
     "execution_count": 108,
     "metadata": {},
     "output_type": "execute_result"
    }
   ],
   "source": [
    "pd.to_datetime(posts_df['created_utc']).head()"
   ]
  },
  {
   "cell_type": "code",
   "execution_count": null,
   "id": "908ea517-3dfb-41e7-a480-9f28c7f25dc4",
   "metadata": {},
   "outputs": [],
   "source": [
    "from datetime import datetime\n",
    "now = datetime.now().strftime(\"%Y-%m-%d %H:%M\")\n",
    "posts_df.to_csv(f'data/reddit_posts_raw_{now}.csv', index = False)"
   ]
  }
 ],
 "metadata": {
  "kernelspec": {
   "display_name": "Python 3 (ipykernel)",
   "language": "python",
   "name": "python3"
  },
  "language_info": {
   "codemirror_mode": {
    "name": "ipython",
    "version": 3
   },
   "file_extension": ".py",
   "mimetype": "text/x-python",
   "name": "python",
   "nbconvert_exporter": "python",
   "pygments_lexer": "ipython3",
   "version": "3.10.9"
  }
 },
 "nbformat": 4,
 "nbformat_minor": 5
}
